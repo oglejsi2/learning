{
  "nbformat": 4,
  "nbformat_minor": 0,
  "metadata": {
    "colab": {
      "provenance": [],
      "authorship_tag": "ABX9TyNJB30vokoG6Jsi7gCrOhv0",
      "include_colab_link": true
    },
    "kernelspec": {
      "name": "python3",
      "display_name": "Python 3"
    },
    "language_info": {
      "name": "python"
    }
  },
  "cells": [
    {
      "cell_type": "markdown",
      "metadata": {
        "id": "view-in-github",
        "colab_type": "text"
      },
      "source": [
        "<a href=\"https://colab.research.google.com/github/oglejsi2/learning/blob/master/learning_01_02_if_statement.ipynb\" target=\"_parent\"><img src=\"https://colab.research.google.com/assets/colab-badge.svg\" alt=\"Open In Colab\"/></a>"
      ]
    },
    {
      "cell_type": "code",
      "execution_count": 3,
      "metadata": {
        "colab": {
          "base_uri": "https://localhost:8080/"
        },
        "id": "nBK30T0ssEUT",
        "outputId": "f8eb0e04-8a49-40c4-dab2-962725b65ecb"
      },
      "outputs": [
        {
          "output_type": "stream",
          "name": "stdout",
          "text": [
            "What is your name: Robert\n",
            "How old are you: 23\n",
            "Please enter M if you are Male and F if you are Female: M\n",
            "Hello mr. Robert\n"
          ]
        }
      ],
      "source": [
        "#We will use program learning_01_02_prompt.py and\n",
        "#What will we do:   We will ask our user to enter his name, age and gender (F/M)\n",
        "#                   If our user is older then 22 we will address him as mr/mrs acording to gender\n",
        "#                   If he is younger then 22 we will just print out Hello + his name\n",
        "#For this purpose we will use if statement (command)\n",
        "#Importan:  Variables have different types. Some store numbers and other store characters\n",
        "#           When using input command python creates variable of type string which can store characters\n",
        "#           You can't use this type of variable for computation and you can't use different type of variables in comparisons\n",
        "#           You have to change vage variable from string to number using int or float command\n",
        "#           int converts string to integer\n",
        "#           float converts string to float\n",
        "vname=input(\"What is your name: \")                                            #ask for name\n",
        "vage=input(\"How old are you: \")                                               #ask for age\n",
        "vgender=input(\"Please enter M if you are Male and F if you are Female: \")     #ask about gender\n",
        "if int(vage)>22:                        #check if the person is older then 22\n",
        "    if (vgender=='F'):                  #we use == for comparison while = is used to set a variable value\n",
        "        print(\"Hello mrs. \"+vname)\n",
        "    elif (vgender=='M'):\n",
        "        print(\"Hello mr. \"+vname)\n",
        "    else:\n",
        "        print(\"Hello \"+vname)\n",
        "else:\n",
        "    print(\"Hello \"+vname)"
      ]
    }
  ]
}